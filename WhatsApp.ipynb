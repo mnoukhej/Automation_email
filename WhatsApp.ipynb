{
 "cells": [
  {
   "cell_type": "code",
   "execution_count": null,
   "metadata": {},
   "outputs": [],
   "source": [
    "import pyautogui\n",
    "import time\n",
    "import webbrowser\n",
    "\n",
    "# Contact number\n",
    "contact = \"+918877380829\"  # Replace with the recipient's number\n",
    "message = \"?\"\n",
    "\n",
    "# Open WhatsApp chat\n",
    "webbrowser.open(f\"whatsapp://send?phone={contact}\")\n",
    "\n",
    "# Wait for WhatsApp to open\n",
    "time.sleep(2)\n",
    "\n",
    "# Send message 100 times\n",
    "for i in range(1):\n",
    "    pyautogui.write(f\"{i+1}. {message}\")\n",
    "    pyautogui.press(\"enter\")  # Press Enter to send\n",
    "    time.sleep(1)  # Small delay to avoid issues\n",
    "\n",
    "print(f\"{i+1} messages sent successfully!\")\n"
   ]
  },
  {
   "cell_type": "code",
   "execution_count": null,
   "metadata": {},
   "outputs": [],
   "source": []
  }
 ],
 "metadata": {
  "kernelspec": {
   "display_name": "Python 3",
   "language": "python",
   "name": "python3"
  },
  "language_info": {
   "name": "python",
   "version": "3.13.1"
  }
 },
 "nbformat": 4,
 "nbformat_minor": 2
}
